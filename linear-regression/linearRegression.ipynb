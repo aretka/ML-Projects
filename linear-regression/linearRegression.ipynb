{
 "cells": [
  {
   "cell_type": "markdown",
   "id": "15ac8689",
   "metadata": {},
   "source": [
    "## This is simple linear regression model with 2 data types\n",
    "Table of contents\n",
    "* Importing libraries\n",
    "* Reading data\n",
    "* Analise data\n",
    "* Remove empty rows\n",
    "* Remove ouliers\n",
    "* Calculating linear regression function\n",
    "* Visualising function and points\n",
    "* R^2 value evaluation\n",
    "\n",
    "### Importing necessary libraries"
   ]
  },
  {
   "cell_type": "code",
   "execution_count": 2,
   "id": "7665513d",
   "metadata": {},
   "outputs": [],
   "source": [
    "%matplotlib inline\n",
    "# importing necessary libraries\n",
    "import numpy as np\n",
    "import pandas as pd\n",
    "import matplotlib.pyplot as plt\n",
    "from scipy import stats\n",
    "plt.rcParams['figure.figsize'] = (20.0, 10.0)"
   ]
  },
  {
   "cell_type": "markdown",
   "id": "f121e0b2",
   "metadata": {},
   "source": [
    "### Reading data"
   ]
  },
  {
   "cell_type": "code",
   "execution_count": 3,
   "id": "dacfc670",
   "metadata": {},
   "outputs": [
    {
     "name": "stdout",
     "output_type": "stream",
     "text": [
      "(237, 4)\n",
      "     Gender  Age Range  Head Size(cm^3)  Brain Weight(grams)\n",
      "0         1          1             4512                 1530\n",
      "1         1          1             3738                 1297\n",
      "2         1          1             4261                 1335\n",
      "3         1          1             3777                 1282\n",
      "4         1          1             4177                 1590\n",
      "..      ...        ...              ...                  ...\n",
      "232       2          2             3214                 1110\n",
      "233       2          2             3394                 1215\n",
      "234       2          2             3233                 1104\n",
      "235       2          2             3352                 1170\n",
      "236       2          2             3391                 1120\n",
      "\n",
      "[237 rows x 4 columns]\n"
     ]
    }
   ],
   "source": [
    "# reading data\n",
    "data = pd.read_csv('headbrain.csv')\n",
    "print(data.shape)\n",
    "data.head()\n",
    "print(data)"
   ]
  },
  {
   "cell_type": "markdown",
   "id": "9dd8713b",
   "metadata": {},
   "source": [
    "There are 237 rows and 4 columns but we only observe Head size and Brian weight\n",
    "### Analise data"
   ]
  },
  {
   "cell_type": "code",
   "execution_count": 4,
   "id": "1da32561",
   "metadata": {},
   "outputs": [
    {
     "data": {
      "text/html": [
       "<div>\n",
       "<style scoped>\n",
       "    .dataframe tbody tr th:only-of-type {\n",
       "        vertical-align: middle;\n",
       "    }\n",
       "\n",
       "    .dataframe tbody tr th {\n",
       "        vertical-align: top;\n",
       "    }\n",
       "\n",
       "    .dataframe thead th {\n",
       "        text-align: right;\n",
       "    }\n",
       "</style>\n",
       "<table border=\"1\" class=\"dataframe\">\n",
       "  <thead>\n",
       "    <tr style=\"text-align: right;\">\n",
       "      <th></th>\n",
       "      <th>Gender</th>\n",
       "      <th>Age Range</th>\n",
       "      <th>Head Size(cm^3)</th>\n",
       "      <th>Brain Weight(grams)</th>\n",
       "    </tr>\n",
       "  </thead>\n",
       "  <tbody>\n",
       "    <tr>\n",
       "      <th>count</th>\n",
       "      <td>237.000000</td>\n",
       "      <td>237.000000</td>\n",
       "      <td>237.000000</td>\n",
       "      <td>237.000000</td>\n",
       "    </tr>\n",
       "    <tr>\n",
       "      <th>mean</th>\n",
       "      <td>1.434599</td>\n",
       "      <td>1.535865</td>\n",
       "      <td>3633.991561</td>\n",
       "      <td>1282.873418</td>\n",
       "    </tr>\n",
       "    <tr>\n",
       "      <th>std</th>\n",
       "      <td>0.496753</td>\n",
       "      <td>0.499768</td>\n",
       "      <td>365.261422</td>\n",
       "      <td>120.340446</td>\n",
       "    </tr>\n",
       "    <tr>\n",
       "      <th>min</th>\n",
       "      <td>1.000000</td>\n",
       "      <td>1.000000</td>\n",
       "      <td>2720.000000</td>\n",
       "      <td>955.000000</td>\n",
       "    </tr>\n",
       "    <tr>\n",
       "      <th>25%</th>\n",
       "      <td>1.000000</td>\n",
       "      <td>1.000000</td>\n",
       "      <td>3389.000000</td>\n",
       "      <td>1207.000000</td>\n",
       "    </tr>\n",
       "    <tr>\n",
       "      <th>50%</th>\n",
       "      <td>1.000000</td>\n",
       "      <td>2.000000</td>\n",
       "      <td>3614.000000</td>\n",
       "      <td>1280.000000</td>\n",
       "    </tr>\n",
       "    <tr>\n",
       "      <th>75%</th>\n",
       "      <td>2.000000</td>\n",
       "      <td>2.000000</td>\n",
       "      <td>3876.000000</td>\n",
       "      <td>1350.000000</td>\n",
       "    </tr>\n",
       "    <tr>\n",
       "      <th>max</th>\n",
       "      <td>2.000000</td>\n",
       "      <td>2.000000</td>\n",
       "      <td>4747.000000</td>\n",
       "      <td>1635.000000</td>\n",
       "    </tr>\n",
       "  </tbody>\n",
       "</table>\n",
       "</div>"
      ],
      "text/plain": [
       "           Gender   Age Range  Head Size(cm^3)  Brain Weight(grams)\n",
       "count  237.000000  237.000000       237.000000           237.000000\n",
       "mean     1.434599    1.535865      3633.991561          1282.873418\n",
       "std      0.496753    0.499768       365.261422           120.340446\n",
       "min      1.000000    1.000000      2720.000000           955.000000\n",
       "25%      1.000000    1.000000      3389.000000          1207.000000\n",
       "50%      1.000000    2.000000      3614.000000          1280.000000\n",
       "75%      2.000000    2.000000      3876.000000          1350.000000\n",
       "max      2.000000    2.000000      4747.000000          1635.000000"
      ]
     },
     "execution_count": 4,
     "metadata": {},
     "output_type": "execute_result"
    }
   ],
   "source": [
    "data.describe()"
   ]
  },
  {
   "cell_type": "code",
   "execution_count": 5,
   "id": "68e4396e",
   "metadata": {},
   "outputs": [
    {
     "data": {
      "text/html": [
       "<div>\n",
       "<style scoped>\n",
       "    .dataframe tbody tr th:only-of-type {\n",
       "        vertical-align: middle;\n",
       "    }\n",
       "\n",
       "    .dataframe tbody tr th {\n",
       "        vertical-align: top;\n",
       "    }\n",
       "\n",
       "    .dataframe thead th {\n",
       "        text-align: right;\n",
       "    }\n",
       "</style>\n",
       "<table border=\"1\" class=\"dataframe\">\n",
       "  <thead>\n",
       "    <tr style=\"text-align: right;\">\n",
       "      <th></th>\n",
       "      <th>Gender</th>\n",
       "      <th>Age Range</th>\n",
       "      <th>Head Size(cm^3)</th>\n",
       "      <th>Brain Weight(grams)</th>\n",
       "    </tr>\n",
       "  </thead>\n",
       "  <tbody>\n",
       "    <tr>\n",
       "      <th>Gender</th>\n",
       "      <td>1.000000</td>\n",
       "      <td>-0.088652</td>\n",
       "      <td>-0.514050</td>\n",
       "      <td>-0.465266</td>\n",
       "    </tr>\n",
       "    <tr>\n",
       "      <th>Age Range</th>\n",
       "      <td>-0.088652</td>\n",
       "      <td>1.000000</td>\n",
       "      <td>-0.105428</td>\n",
       "      <td>-0.169438</td>\n",
       "    </tr>\n",
       "    <tr>\n",
       "      <th>Head Size(cm^3)</th>\n",
       "      <td>-0.514050</td>\n",
       "      <td>-0.105428</td>\n",
       "      <td>1.000000</td>\n",
       "      <td>0.799570</td>\n",
       "    </tr>\n",
       "    <tr>\n",
       "      <th>Brain Weight(grams)</th>\n",
       "      <td>-0.465266</td>\n",
       "      <td>-0.169438</td>\n",
       "      <td>0.799570</td>\n",
       "      <td>1.000000</td>\n",
       "    </tr>\n",
       "  </tbody>\n",
       "</table>\n",
       "</div>"
      ],
      "text/plain": [
       "                       Gender  Age Range  Head Size(cm^3)  Brain Weight(grams)\n",
       "Gender               1.000000  -0.088652        -0.514050            -0.465266\n",
       "Age Range           -0.088652   1.000000        -0.105428            -0.169438\n",
       "Head Size(cm^3)     -0.514050  -0.105428         1.000000             0.799570\n",
       "Brain Weight(grams) -0.465266  -0.169438         0.799570             1.000000"
      ]
     },
     "execution_count": 5,
     "metadata": {},
     "output_type": "execute_result"
    }
   ],
   "source": [
    "data.corr()"
   ]
  },
  {
   "cell_type": "markdown",
   "id": "09074fd9",
   "metadata": {},
   "source": [
    "We will analise last 2 colums.\n",
    "* Head Size(cm^3) column values are between 2720 and 4747 while mean value is 3633. Max and min values are not far from mean value\n",
    "* Brain Weight(grams) values are between 955 and 1635 while mean value is 1282. Max and min values are not far from mean value.\n",
    "* Correliation between these values is 0.79 and it is statistically significant.\n",
    "\n",
    "### Remove empty rows"
   ]
  },
  {
   "cell_type": "code",
   "execution_count": 6,
   "id": "048e82fd",
   "metadata": {},
   "outputs": [
    {
     "data": {
      "text/plain": [
       "(237, 4)"
      ]
     },
     "execution_count": 6,
     "metadata": {},
     "output_type": "execute_result"
    }
   ],
   "source": [
    "data = data.dropna(axis=0, how='any')\n",
    "data.shape"
   ]
  },
  {
   "cell_type": "markdown",
   "id": "56400a7b",
   "metadata": {},
   "source": [
    "Rows where at least one value is null are removed\n",
    "\n",
    "### Remove outlier values"
   ]
  },
  {
   "cell_type": "code",
   "execution_count": 7,
   "id": "561694c3",
   "metadata": {},
   "outputs": [
    {
     "data": {
      "text/plain": [
       "(236, 4)"
      ]
     },
     "execution_count": 7,
     "metadata": {},
     "output_type": "execute_result"
    }
   ],
   "source": [
    "data = data[np.abs(stats.zscore(data) < 3).all(axis=1)]\n",
    "data.shape"
   ]
  },
  {
   "cell_type": "markdown",
   "id": "10eb0b7e",
   "metadata": {},
   "source": [
    "Assign 'Head Size(cm^3)' to X and 'Brain Weight(grams)' to Y variables"
   ]
  },
  {
   "cell_type": "code",
   "execution_count": 8,
   "id": "8054202c",
   "metadata": {},
   "outputs": [],
   "source": [
    "X = data['Head Size(cm^3)'].values\n",
    "Y = data['Brain Weight(grams)'].values"
   ]
  },
  {
   "cell_type": "markdown",
   "id": "753a355f",
   "metadata": {},
   "source": [
    "### Calculating linear regression function"
   ]
  },
  {
   "cell_type": "code",
   "execution_count": 9,
   "id": "7aeda57c",
   "metadata": {},
   "outputs": [
    {
     "name": "stdout",
     "output_type": "stream",
     "text": [
      "0.26125142583118316 333.2279767489795\n"
     ]
    }
   ],
   "source": [
    "# Mean X and Y\n",
    "mean_x = np.mean(X)\n",
    "mean_y = np.mean(Y)\n",
    "\n",
    "# Total number of values\n",
    "m = len(X)\n",
    "\n",
    "# calculating y=mx+b\n",
    "# m = sum((X - mean_x)(Y - mean_y))/sum((X - mean_x)**2)\n",
    "numer = 0\n",
    "denom = 0\n",
    "for i in range(m):\n",
    "    numer += (X[i] - mean_x) * (Y[i] - mean_y)\n",
    "    denom += (X[i] - mean_x) ** 2\n",
    "\n",
    "# calculating m value of function y=mx+b\n",
    "b1 = numer / denom\n",
    "# calculating b value of the same function\n",
    "b0 = mean_y - (b1 * mean_x)\n",
    "\n",
    "print(b1, b0)"
   ]
  },
  {
   "cell_type": "markdown",
   "id": "979f4c4b",
   "metadata": {},
   "source": [
    "### Visualising function and points"
   ]
  },
  {
   "cell_type": "code",
   "execution_count": 10,
   "id": "f0e4e4ce",
   "metadata": {},
   "outputs": [
    {
     "data": {
      "image/png": "[encoded data removed]",
      "text/plain": [
       "<Figure size 1440x720 with 1 Axes>"
      ]
     },
     "metadata": {
      "needs_background": "light"
     },
     "output_type": "display_data"
    }
   ],
   "source": [
    "max_x = np.max(X) + 100\n",
    "min_x = np.min(X) - 100\n",
    "\n",
    "# calculating line values x and y\n",
    "x = np.linspace(min_x, max_x, 1000)\n",
    "y = b0 + b1 * x\n",
    "\n",
    "# ploting line\n",
    "plt.plot(x, y, color='#191919', label='Regression line')\n",
    "\n",
    "# ploting scatter points\n",
    "plt.scatter(X, Y, c='#ef5423', label='Scatter plot')\n",
    "\n",
    "plt.xlabel('Head size in cm3')\n",
    "plt.ylabel('Brain weight in grams')\n",
    "plt.legend()\n",
    "plt.show()"
   ]
  },
  {
   "cell_type": "markdown",
   "id": "021bff56",
   "metadata": {},
   "source": [
    "### Calculating R^2 value"
   ]
  },
  {
   "cell_type": "code",
   "execution_count": 11,
   "id": "72346523",
   "metadata": {},
   "outputs": [
    {
     "name": "stdout",
     "output_type": "stream",
     "text": [
      "R^2 = 0.37322376666942514\n"
     ]
    }
   ],
   "source": [
    "# calculating R-squared value\n",
    "# R^2 is a measure of how close the data are to the fitted regression line\n",
    "numinator_y = 0\n",
    "denominator_y = 0\n",
    "for i in range(m):\n",
    "    y_pred = b0 + b1 * X[i]\n",
    "    denominator_y += (Y[i] - mean_y) ** 2\n",
    "    numinator_y += (y_pred - mean_y) ** 2\n",
    "R2 = 1 - (numinator_y / denominator_y)\n",
    "print('R^2 = {}'.format(R2))"
   ]
  }
 ],
 "metadata": {
  "kernelspec": {
   "display_name": "Python 3",
   "language": "python",
   "name": "python3"
  },
  "language_info": {
   "codemirror_mode": {
    "name": "ipython",
    "version": 3
   },
   "file_extension": ".py",
   "mimetype": "text/x-python",
   "name": "python",
   "nbconvert_exporter": "python",
   "pygments_lexer": "ipython3",
   "version": "3.9.2"
  }
 },
 "nbformat": 4,
 "nbformat_minor": 5
}
