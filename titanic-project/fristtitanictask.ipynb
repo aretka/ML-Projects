{
 "cells": [
  {
   "cell_type": "markdown",
   "id": "magnetic-combining",
   "metadata": {
    "papermill": {
     "duration": 0.011426,
     "end_time": "2021-04-26T16:39:02.415122",
     "exception": false,
     "start_time": "2021-04-26T16:39:02.403696",
     "status": "completed"
    },
    "tags": []
   },
   "source": [
    "## Titanic project\n",
    "\n",
    "Table of content\n",
    "* 1. Preperation\n",
    "    * 1.1. Import relevant librarie\n",
    "    * 1.2. Load data from the file\n",
    "* 2. Data overview\n",
    "    * 2.1. Data dictionary\n",
    "    * 2.2. Properties\n",
    "    * 2.3. Features\n",
    "    * 2.4. Null values\n",
    "    * 2.5. Statistical distribution\n",
    "    * 2.6. Data visualisation\n",
    "* 3. Data cleaning\n",
    "* 4. Choosing the best model\n",
    "\n",
    "## 1. Preperation\n",
    "### 1.1. Import relevent libraries"
   ]
  },
  {
   "cell_type": "code",
   "execution_count": 4,
   "id": "amber-three",
   "metadata": {
    "execution": {
     "iopub.execute_input": "2021-04-26T16:39:02.441000Z",
     "iopub.status.busy": "2021-04-26T16:39:02.440388Z",
     "iopub.status.idle": "2021-04-26T16:39:03.480433Z",
     "shell.execute_reply": "2021-04-26T16:39:03.479080Z"
    },
    "papermill": {
     "duration": 1.055726,
     "end_time": "2021-04-26T16:39:03.480635",
     "exception": false,
     "start_time": "2021-04-26T16:39:02.424909",
     "status": "completed"
    },
    "tags": []
   },
   "outputs": [
    {
     "name": "stdout",
     "output_type": "stream",
     "text": [
      "Modules imported\n"
     ]
    }
   ],
   "source": [
    "# data analysis\n",
    "import pandas as pd\n",
    "import numpy as np\n",
    "from scipy import stats\n",
    "\n",
    "# visualisation\n",
    "import matplotlib.pyplot as plt\n",
    "import seaborn as sns\n",
    "%matplotlib inline\n",
    "print(\"Modules imported\")"
   ]
  },
  {
   "cell_type": "markdown",
   "id": "meaningful-traveler",
   "metadata": {
    "papermill": {
     "duration": 0.010391,
     "end_time": "2021-04-26T16:39:03.501969",
     "exception": false,
     "start_time": "2021-04-26T16:39:03.491578",
     "status": "completed"
    },
    "tags": []
   },
   "source": [
    "### 1.2. Load data from the file"
   ]
  },
  {
   "cell_type": "code",
   "execution_count": 5,
   "id": "female-florida",
   "metadata": {
    "execution": {
     "iopub.execute_input": "2021-04-26T16:39:03.528473Z",
     "iopub.status.busy": "2021-04-26T16:39:03.527717Z",
     "iopub.status.idle": "2021-04-26T16:39:03.587451Z",
     "shell.execute_reply": "2021-04-26T16:39:03.586881Z"
    },
    "papermill": {
     "duration": 0.075618,
     "end_time": "2021-04-26T16:39:03.587600",
     "exception": false,
     "start_time": "2021-04-26T16:39:03.511982",
     "status": "completed"
    },
    "tags": []
   },
   "outputs": [
    {
     "data": {
      "text/html": [
       "<div>\n",
       "<style scoped>\n",
       "    .dataframe tbody tr th:only-of-type {\n",
       "        vertical-align: middle;\n",
       "    }\n",
       "\n",
       "    .dataframe tbody tr th {\n",
       "        vertical-align: top;\n",
       "    }\n",
       "\n",
       "    .dataframe thead th {\n",
       "        text-align: right;\n",
       "    }\n",
       "</style>\n",
       "<table border=\"1\" class=\"dataframe\">\n",
       "  <thead>\n",
       "    <tr style=\"text-align: right;\">\n",
       "      <th></th>\n",
       "      <th>PassengerId</th>\n",
       "      <th>Survived</th>\n",
       "      <th>Pclass</th>\n",
       "      <th>Name</th>\n",
       "      <th>Sex</th>\n",
       "      <th>Age</th>\n",
       "      <th>SibSp</th>\n",
       "      <th>Parch</th>\n",
       "      <th>Ticket</th>\n",
       "      <th>Fare</th>\n",
       "      <th>Cabin</th>\n",
       "      <th>Embarked</th>\n",
       "    </tr>\n",
       "  </thead>\n",
       "  <tbody>\n",
       "    <tr>\n",
       "      <th>0</th>\n",
       "      <td>1</td>\n",
       "      <td>0</td>\n",
       "      <td>3</td>\n",
       "      <td>Braund, Mr. Owen Harris</td>\n",
       "      <td>male</td>\n",
       "      <td>22.0</td>\n",
       "      <td>1</td>\n",
       "      <td>0</td>\n",
       "      <td>A/5 21171</td>\n",
       "      <td>7.2500</td>\n",
       "      <td>NaN</td>\n",
       "      <td>S</td>\n",
       "    </tr>\n",
       "    <tr>\n",
       "      <th>1</th>\n",
       "      <td>2</td>\n",
       "      <td>1</td>\n",
       "      <td>1</td>\n",
       "      <td>Cumings, Mrs. John Bradley (Florence Briggs Th...</td>\n",
       "      <td>female</td>\n",
       "      <td>38.0</td>\n",
       "      <td>1</td>\n",
       "      <td>0</td>\n",
       "      <td>PC 17599</td>\n",
       "      <td>71.2833</td>\n",
       "      <td>C85</td>\n",
       "      <td>C</td>\n",
       "    </tr>\n",
       "    <tr>\n",
       "      <th>2</th>\n",
       "      <td>3</td>\n",
       "      <td>1</td>\n",
       "      <td>3</td>\n",
       "      <td>Heikkinen, Miss. Laina</td>\n",
       "      <td>female</td>\n",
       "      <td>26.0</td>\n",
       "      <td>0</td>\n",
       "      <td>0</td>\n",
       "      <td>STON/O2. 3101282</td>\n",
       "      <td>7.9250</td>\n",
       "      <td>NaN</td>\n",
       "      <td>S</td>\n",
       "    </tr>\n",
       "    <tr>\n",
       "      <th>3</th>\n",
       "      <td>4</td>\n",
       "      <td>1</td>\n",
       "      <td>1</td>\n",
       "      <td>Futrelle, Mrs. Jacques Heath (Lily May Peel)</td>\n",
       "      <td>female</td>\n",
       "      <td>35.0</td>\n",
       "      <td>1</td>\n",
       "      <td>0</td>\n",
       "      <td>113803</td>\n",
       "      <td>53.1000</td>\n",
       "      <td>C123</td>\n",
       "      <td>S</td>\n",
       "    </tr>\n",
       "    <tr>\n",
       "      <th>4</th>\n",
       "      <td>5</td>\n",
       "      <td>0</td>\n",
       "      <td>3</td>\n",
       "      <td>Allen, Mr. William Henry</td>\n",
       "      <td>male</td>\n",
       "      <td>35.0</td>\n",
       "      <td>0</td>\n",
       "      <td>0</td>\n",
       "      <td>373450</td>\n",
       "      <td>8.0500</td>\n",
       "      <td>NaN</td>\n",
       "      <td>S</td>\n",
       "    </tr>\n",
       "  </tbody>\n",
       "</table>\n",
       "</div>"
      ],
      "text/plain": [
       "   PassengerId  Survived  Pclass  \\\n",
       "0            1         0       3   \n",
       "1            2         1       1   \n",
       "2            3         1       3   \n",
       "3            4         1       1   \n",
       "4            5         0       3   \n",
       "\n",
       "                                                Name     Sex   Age  SibSp  \\\n",
       "0                            Braund, Mr. Owen Harris    male  22.0      1   \n",
       "1  Cumings, Mrs. John Bradley (Florence Briggs Th...  female  38.0      1   \n",
       "2                             Heikkinen, Miss. Laina  female  26.0      0   \n",
       "3       Futrelle, Mrs. Jacques Heath (Lily May Peel)  female  35.0      1   \n",
       "4                           Allen, Mr. William Henry    male  35.0      0   \n",
       "\n",
       "   Parch            Ticket     Fare Cabin Embarked  \n",
       "0      0         A/5 21171   7.2500   NaN        S  \n",
       "1      0          PC 17599  71.2833   C85        C  \n",
       "2      0  STON/O2. 3101282   7.9250   NaN        S  \n",
       "3      0            113803  53.1000  C123        S  \n",
       "4      0            373450   8.0500   NaN        S  "
      ]
     },
     "execution_count": 5,
     "metadata": {},
     "output_type": "execute_result"
    }
   ],
   "source": [
    "# load train.csv to pandas data frame, using 'PassengerId' as the index\n",
    "train_df = pd.read_csv('train.csv', )\n",
    "test_df = pd.read_csv('test.csv')\n",
    "\n",
    "# Preview the data\n",
    "train_df.head()"
   ]
  },
  {
   "cell_type": "markdown",
   "id": "massive-gardening",
   "metadata": {
    "papermill": {
     "duration": 0.010725,
     "end_time": "2021-04-26T16:39:03.609109",
     "exception": false,
     "start_time": "2021-04-26T16:39:03.598384",
     "status": "completed"
    },
    "tags": []
   },
   "source": [
    "## 2. Data overview\n",
    "### 2.1. Data dictionary"
   ]
  },
  {
   "cell_type": "markdown",
   "id": "waiting-stanley",
   "metadata": {
    "papermill": {
     "duration": 0.010586,
     "end_time": "2021-04-26T16:39:03.630528",
     "exception": false,
     "start_time": "2021-04-26T16:39:03.619942",
     "status": "completed"
    },
    "tags": []
   },
   "source": [
    "![Dictionary](dictionary.png)\n",
    "### 2.2. Properties"
   ]
  },
  {
   "cell_type": "code",
   "execution_count": 6,
   "id": "ecological-george",
   "metadata": {
    "execution": {
     "iopub.execute_input": "2021-04-26T16:39:03.659279Z",
     "iopub.status.busy": "2021-04-26T16:39:03.658185Z",
     "iopub.status.idle": "2021-04-26T16:39:03.662991Z",
     "shell.execute_reply": "2021-04-26T16:39:03.663492Z"
    },
    "papermill": {
     "duration": 0.022242,
     "end_time": "2021-04-26T16:39:03.663704",
     "exception": false,
     "start_time": "2021-04-26T16:39:03.641462",
     "status": "completed"
    },
    "tags": []
   },
   "outputs": [
    {
     "name": "stdout",
     "output_type": "stream",
     "text": [
      "There are 891 rows and 12 columns\n"
     ]
    }
   ],
   "source": [
    "print(\"There are {} rows and {} columns\"\n",
    "      .format(train_df.shape[0], train_df.shape[1]))"
   ]
  },
  {
   "cell_type": "code",
   "execution_count": 7,
   "id": "central-processing",
   "metadata": {
    "execution": {
     "iopub.execute_input": "2021-04-26T16:39:03.708489Z",
     "iopub.status.busy": "2021-04-26T16:39:03.707471Z",
     "iopub.status.idle": "2021-04-26T16:39:03.712329Z",
     "shell.execute_reply": "2021-04-26T16:39:03.711600Z"
    },
    "papermill": {
     "duration": 0.037487,
     "end_time": "2021-04-26T16:39:03.712489",
     "exception": false,
     "start_time": "2021-04-26T16:39:03.675002",
     "status": "completed"
    },
    "tags": []
   },
   "outputs": [
    {
     "name": "stdout",
     "output_type": "stream",
     "text": [
      "<class 'pandas.core.frame.DataFrame'>\n",
      "RangeIndex: 891 entries, 0 to 890\n",
      "Data columns (total 12 columns):\n",
      " #   Column       Non-Null Count  Dtype  \n",
      "---  ------       --------------  -----  \n",
      " 0   PassengerId  891 non-null    int64  \n",
      " 1   Survived     891 non-null    int64  \n",
      " 2   Pclass       891 non-null    int64  \n",
      " 3   Name         891 non-null    object \n",
      " 4   Sex          891 non-null    object \n",
      " 5   Age          714 non-null    float64\n",
      " 6   SibSp        891 non-null    int64  \n",
      " 7   Parch        891 non-null    int64  \n",
      " 8   Ticket       891 non-null    object \n",
      " 9   Fare         891 non-null    float64\n",
      " 10  Cabin        204 non-null    object \n",
      " 11  Embarked     889 non-null    object \n",
      "dtypes: float64(2), int64(5), object(5)\n",
      "memory usage: 83.7+ KB\n",
      "None\n"
     ]
    }
   ],
   "source": [
    "# print basic summary of the dataset\n",
    "print(train_df.info())"
   ]
  },
  {
   "cell_type": "markdown",
   "id": "happy-buyer",
   "metadata": {
    "papermill": {
     "duration": 0.011062,
     "end_time": "2021-04-26T16:39:03.735084",
     "exception": false,
     "start_time": "2021-04-26T16:39:03.724022",
     "status": "completed"
    },
    "tags": []
   },
   "source": [
    "### 2.3. Features\n",
    "The dataset contains 3 data types. We will assume that float64 represent continuos data, int64 represents descrete data and object represents categorical data.\n",
    "* Continuos data: age, fare.\n",
    "* Descrete data: survived, pclass, sibsp, parch.\n",
    "* Categorical data: name, sex, cabin, embarked\n",
    "\n",
    "## 2.4. Null values"
   ]
  },
  {
   "cell_type": "code",
   "execution_count": 5,
   "id": "pediatric-medium",
   "metadata": {
    "execution": {
     "iopub.execute_input": "2021-04-26T16:39:03.769260Z",
     "iopub.status.busy": "2021-04-26T16:39:03.767909Z",
     "iopub.status.idle": "2021-04-26T16:39:03.773179Z",
     "shell.execute_reply": "2021-04-26T16:39:03.772377Z"
    },
    "papermill": {
     "duration": 0.0268,
     "end_time": "2021-04-26T16:39:03.773348",
     "exception": false,
     "start_time": "2021-04-26T16:39:03.746548",
     "status": "completed"
    },
    "tags": []
   },
   "outputs": [
    {
     "data": {
      "text/plain": [
       "Survived      0\n",
       "Pclass        0\n",
       "Name          0\n",
       "Sex           0\n",
       "Age         177\n",
       "SibSp         0\n",
       "Parch         0\n",
       "Ticket        0\n",
       "Fare          0\n",
       "Cabin       687\n",
       "Embarked      2\n",
       "dtype: int64"
      ]
     },
     "execution_count": 5,
     "metadata": {},
     "output_type": "execute_result"
    }
   ],
   "source": [
    "master_df.isnull().sum()"
   ]
  },
  {
   "cell_type": "markdown",
   "id": "limited-solution",
   "metadata": {
    "papermill": {
     "duration": 0.011583,
     "end_time": "2021-04-26T16:39:03.798702",
     "exception": false,
     "start_time": "2021-04-26T16:39:03.787119",
     "status": "completed"
    },
    "tags": []
   },
   "source": [
    "* As we can see cabin is null 687 out of 891 instances. Any imputation would likely introduce signficant bias. We can drop this feature.\n",
    "* Null values constitute minor portion of the data age(177 of 891) and embarked(2 of 891). Imputation of these features will have minimal impact of correliation.\n",
    "\n",
    "### 2.5. Statistical distribution\n",
    "\n",
    "Print statistical distribution of all data"
   ]
  },
  {
   "cell_type": "code",
   "execution_count": 13,
   "id": "protecting-klein",
   "metadata": {
    "execution": {
     "iopub.execute_input": "2021-04-26T16:39:03.924668Z",
     "iopub.status.busy": "2021-04-26T16:39:03.923542Z",
     "iopub.status.idle": "2021-04-26T16:39:03.966937Z",
     "shell.execute_reply": "2021-04-26T16:39:03.966185Z"
    },
    "papermill": {
     "duration": 0.065435,
     "end_time": "2021-04-26T16:39:03.967098",
     "exception": false,
     "start_time": "2021-04-26T16:39:03.901663",
     "status": "completed"
    },
    "tags": []
   },
   "outputs": [
    {
     "data": {
      "text/html": [
       "<div>\n",
       "<style scoped>\n",
       "    .dataframe tbody tr th:only-of-type {\n",
       "        vertical-align: middle;\n",
       "    }\n",
       "\n",
       "    .dataframe tbody tr th {\n",
       "        vertical-align: top;\n",
       "    }\n",
       "\n",
       "    .dataframe thead th {\n",
       "        text-align: right;\n",
       "    }\n",
       "</style>\n",
       "<table border=\"1\" class=\"dataframe\">\n",
       "  <thead>\n",
       "    <tr style=\"text-align: right;\">\n",
       "      <th></th>\n",
       "      <th>PassengerId</th>\n",
       "      <th>Survived</th>\n",
       "      <th>Pclass</th>\n",
       "      <th>Name</th>\n",
       "      <th>Sex</th>\n",
       "      <th>Age</th>\n",
       "      <th>SibSp</th>\n",
       "      <th>Parch</th>\n",
       "      <th>Ticket</th>\n",
       "      <th>Fare</th>\n",
       "      <th>Cabin</th>\n",
       "      <th>Embarked</th>\n",
       "    </tr>\n",
       "  </thead>\n",
       "  <tbody>\n",
       "    <tr>\n",
       "      <th>count</th>\n",
       "      <td>891.000000</td>\n",
       "      <td>891.000000</td>\n",
       "      <td>891.000000</td>\n",
       "      <td>891</td>\n",
       "      <td>891</td>\n",
       "      <td>714.000000</td>\n",
       "      <td>891.000000</td>\n",
       "      <td>891.000000</td>\n",
       "      <td>891</td>\n",
       "      <td>891.000000</td>\n",
       "      <td>204</td>\n",
       "      <td>889</td>\n",
       "    </tr>\n",
       "    <tr>\n",
       "      <th>unique</th>\n",
       "      <td>NaN</td>\n",
       "      <td>NaN</td>\n",
       "      <td>NaN</td>\n",
       "      <td>891</td>\n",
       "      <td>2</td>\n",
       "      <td>NaN</td>\n",
       "      <td>NaN</td>\n",
       "      <td>NaN</td>\n",
       "      <td>681</td>\n",
       "      <td>NaN</td>\n",
       "      <td>147</td>\n",
       "      <td>3</td>\n",
       "    </tr>\n",
       "    <tr>\n",
       "      <th>top</th>\n",
       "      <td>NaN</td>\n",
       "      <td>NaN</td>\n",
       "      <td>NaN</td>\n",
       "      <td>Lesurer, Mr. Gustave J</td>\n",
       "      <td>male</td>\n",
       "      <td>NaN</td>\n",
       "      <td>NaN</td>\n",
       "      <td>NaN</td>\n",
       "      <td>CA. 2343</td>\n",
       "      <td>NaN</td>\n",
       "      <td>B96 B98</td>\n",
       "      <td>S</td>\n",
       "    </tr>\n",
       "    <tr>\n",
       "      <th>freq</th>\n",
       "      <td>NaN</td>\n",
       "      <td>NaN</td>\n",
       "      <td>NaN</td>\n",
       "      <td>1</td>\n",
       "      <td>577</td>\n",
       "      <td>NaN</td>\n",
       "      <td>NaN</td>\n",
       "      <td>NaN</td>\n",
       "      <td>7</td>\n",
       "      <td>NaN</td>\n",
       "      <td>4</td>\n",
       "      <td>644</td>\n",
       "    </tr>\n",
       "    <tr>\n",
       "      <th>mean</th>\n",
       "      <td>446.000000</td>\n",
       "      <td>0.383838</td>\n",
       "      <td>2.308642</td>\n",
       "      <td>NaN</td>\n",
       "      <td>NaN</td>\n",
       "      <td>29.699118</td>\n",
       "      <td>0.523008</td>\n",
       "      <td>0.381594</td>\n",
       "      <td>NaN</td>\n",
       "      <td>32.204208</td>\n",
       "      <td>NaN</td>\n",
       "      <td>NaN</td>\n",
       "    </tr>\n",
       "    <tr>\n",
       "      <th>std</th>\n",
       "      <td>257.353842</td>\n",
       "      <td>0.486592</td>\n",
       "      <td>0.836071</td>\n",
       "      <td>NaN</td>\n",
       "      <td>NaN</td>\n",
       "      <td>14.526497</td>\n",
       "      <td>1.102743</td>\n",
       "      <td>0.806057</td>\n",
       "      <td>NaN</td>\n",
       "      <td>49.693429</td>\n",
       "      <td>NaN</td>\n",
       "      <td>NaN</td>\n",
       "    </tr>\n",
       "    <tr>\n",
       "      <th>min</th>\n",
       "      <td>1.000000</td>\n",
       "      <td>0.000000</td>\n",
       "      <td>1.000000</td>\n",
       "      <td>NaN</td>\n",
       "      <td>NaN</td>\n",
       "      <td>0.420000</td>\n",
       "      <td>0.000000</td>\n",
       "      <td>0.000000</td>\n",
       "      <td>NaN</td>\n",
       "      <td>0.000000</td>\n",
       "      <td>NaN</td>\n",
       "      <td>NaN</td>\n",
       "    </tr>\n",
       "    <tr>\n",
       "      <th>25%</th>\n",
       "      <td>223.500000</td>\n",
       "      <td>0.000000</td>\n",
       "      <td>2.000000</td>\n",
       "      <td>NaN</td>\n",
       "      <td>NaN</td>\n",
       "      <td>20.125000</td>\n",
       "      <td>0.000000</td>\n",
       "      <td>0.000000</td>\n",
       "      <td>NaN</td>\n",
       "      <td>7.910400</td>\n",
       "      <td>NaN</td>\n",
       "      <td>NaN</td>\n",
       "    </tr>\n",
       "    <tr>\n",
       "      <th>50%</th>\n",
       "      <td>446.000000</td>\n",
       "      <td>0.000000</td>\n",
       "      <td>3.000000</td>\n",
       "      <td>NaN</td>\n",
       "      <td>NaN</td>\n",
       "      <td>28.000000</td>\n",
       "      <td>0.000000</td>\n",
       "      <td>0.000000</td>\n",
       "      <td>NaN</td>\n",
       "      <td>14.454200</td>\n",
       "      <td>NaN</td>\n",
       "      <td>NaN</td>\n",
       "    </tr>\n",
       "    <tr>\n",
       "      <th>75%</th>\n",
       "      <td>668.500000</td>\n",
       "      <td>1.000000</td>\n",
       "      <td>3.000000</td>\n",
       "      <td>NaN</td>\n",
       "      <td>NaN</td>\n",
       "      <td>38.000000</td>\n",
       "      <td>1.000000</td>\n",
       "      <td>0.000000</td>\n",
       "      <td>NaN</td>\n",
       "      <td>31.000000</td>\n",
       "      <td>NaN</td>\n",
       "      <td>NaN</td>\n",
       "    </tr>\n",
       "    <tr>\n",
       "      <th>max</th>\n",
       "      <td>891.000000</td>\n",
       "      <td>1.000000</td>\n",
       "      <td>3.000000</td>\n",
       "      <td>NaN</td>\n",
       "      <td>NaN</td>\n",
       "      <td>80.000000</td>\n",
       "      <td>8.000000</td>\n",
       "      <td>6.000000</td>\n",
       "      <td>NaN</td>\n",
       "      <td>512.329200</td>\n",
       "      <td>NaN</td>\n",
       "      <td>NaN</td>\n",
       "    </tr>\n",
       "  </tbody>\n",
       "</table>\n",
       "</div>"
      ],
      "text/plain": [
       "        PassengerId    Survived      Pclass                    Name   Sex  \\\n",
       "count    891.000000  891.000000  891.000000                     891   891   \n",
       "unique          NaN         NaN         NaN                     891     2   \n",
       "top             NaN         NaN         NaN  Lesurer, Mr. Gustave J  male   \n",
       "freq            NaN         NaN         NaN                       1   577   \n",
       "mean     446.000000    0.383838    2.308642                     NaN   NaN   \n",
       "std      257.353842    0.486592    0.836071                     NaN   NaN   \n",
       "min        1.000000    0.000000    1.000000                     NaN   NaN   \n",
       "25%      223.500000    0.000000    2.000000                     NaN   NaN   \n",
       "50%      446.000000    0.000000    3.000000                     NaN   NaN   \n",
       "75%      668.500000    1.000000    3.000000                     NaN   NaN   \n",
       "max      891.000000    1.000000    3.000000                     NaN   NaN   \n",
       "\n",
       "               Age       SibSp       Parch    Ticket        Fare    Cabin  \\\n",
       "count   714.000000  891.000000  891.000000       891  891.000000      204   \n",
       "unique         NaN         NaN         NaN       681         NaN      147   \n",
       "top            NaN         NaN         NaN  CA. 2343         NaN  B96 B98   \n",
       "freq           NaN         NaN         NaN         7         NaN        4   \n",
       "mean     29.699118    0.523008    0.381594       NaN   32.204208      NaN   \n",
       "std      14.526497    1.102743    0.806057       NaN   49.693429      NaN   \n",
       "min       0.420000    0.000000    0.000000       NaN    0.000000      NaN   \n",
       "25%      20.125000    0.000000    0.000000       NaN    7.910400      NaN   \n",
       "50%      28.000000    0.000000    0.000000       NaN   14.454200      NaN   \n",
       "75%      38.000000    1.000000    0.000000       NaN   31.000000      NaN   \n",
       "max      80.000000    8.000000    6.000000       NaN  512.329200      NaN   \n",
       "\n",
       "       Embarked  \n",
       "count       889  \n",
       "unique        3  \n",
       "top           S  \n",
       "freq        644  \n",
       "mean        NaN  \n",
       "std         NaN  \n",
       "min         NaN  \n",
       "25%         NaN  \n",
       "50%         NaN  \n",
       "75%         NaN  \n",
       "max         NaN  "
      ]
     },
     "execution_count": 13,
     "metadata": {},
     "output_type": "execute_result"
    }
   ],
   "source": [
    "train_df.describe(include=\"all\")"
   ]
  },
  {
   "cell_type": "markdown",
   "id": "handmade-masters",
   "metadata": {
    "papermill": {
     "duration": 0.012863,
     "end_time": "2021-04-26T16:39:03.993260",
     "exception": false,
     "start_time": "2021-04-26T16:39:03.980397",
     "status": "completed"
    },
    "tags": []
   },
   "source": [
    "Some observations:\n",
    "* There are 577 male out of 891 which is 64.7%.\n",
    "* There is only Fare max price of 512 which is much higher than mean value. We can consider to drop outlier values of fare column.\n",
    "\n",
    "### 2.6. Data visualisation"
   ]
  },
  {
   "cell_type": "markdown",
   "id": "7305d76d",
   "metadata": {},
   "source": [
    "Visualising each feature distribution "
   ]
  },
  {
   "cell_type": "markdown",
   "id": "8ee48611",
   "metadata": {},
   "source": [
    "**Survival by sex**"
   ]
  },
  {
   "cell_type": "code",
   "execution_count": 66,
   "id": "4791c1ee",
   "metadata": {},
   "outputs": [
    {
     "name": "stdout",
     "output_type": "stream",
     "text": [
      "Precentage of female survived: 74.20382165605095 %\n",
      "Precentage of male survived: 18.890814558058924 %\n"
     ]
    },
    {
     "data": {
      "image/png": "[encoded data removed]",
      "text/plain": [
       "<Figure size 432x288 with 1 Axes>"
      ]
     },
     "metadata": {
      "needs_background": "light"
     },
     "output_type": "display_data"
    }
   ],
   "source": [
    "#draw a bar plot of survival by sex\n",
    "sns.barplot(x=\"Sex\", y=\"Survived\", data=train_df)\n",
    "\n",
    "print(\"Precentage of female survived: {} %\"\n",
    "      .format(train_df['Survived'][train_df['Sex'] == 'female']\n",
    "              .value_counts(normalize=True)[1]*100))\n",
    "\n",
    "print(\"Precentage of male survived: {} %\"\n",
    "      .format(train_df['Survived'][train_df['Sex'] == 'male']\n",
    "              .value_counts(normalize=True)[1]*100))"
   ]
  },
  {
   "cell_type": "markdown",
   "id": "23a088fe",
   "metadata": {},
   "source": [
    "Significantly more female survived."
   ]
  },
  {
   "cell_type": "markdown",
   "id": "63f6d40c",
   "metadata": {},
   "source": [
    "**Survival by Pclass**:"
   ]
  },
  {
   "cell_type": "code",
   "execution_count": 79,
   "id": "3bea3324",
   "metadata": {},
   "outputs": [
    {
     "name": "stdout",
     "output_type": "stream",
     "text": [
      "Precentage of 1 class survived: 0.6296296296296297 %\n",
      "Precentage of 2 class survived: 0.47282608695652173 %\n",
      "Precentage of 3 class survived: 0.24236252545824846 %\n",
      "3    491\n",
      "1    216\n",
      "2    184\n",
      "Name: Pclass, dtype: int64\n"
     ]
    },
    {
     "data": {
      "image/png": "[encoded data removed]",
      "text/plain": [
       "<Figure size 432x288 with 1 Axes>"
      ]
     },
     "metadata": {
      "needs_background": "light"
     },
     "output_type": "display_data"
    }
   ],
   "source": [
    "#draw bar plot of survival by sex\n",
    "sns.barplot(x=\"Pclass\", y=\"Survived\", data=train_df)\n",
    "\n",
    "print(\"Precentage of 1 class survived: {} %\"\n",
    "      .format(train_df['Survived'][train_df['Pclass'] == 1]\n",
    "              .value_counts(normalize=True)[1]))\n",
    "\n",
    "print(\"Precentage of 2 class survived: {} %\"\n",
    "      .format(train_df['Survived'][train_df['Pclass'] == 2]\n",
    "              .value_counts(normalize=True)[1]))\n",
    "\n",
    "print(\"Precentage of 3 class survived: {} %\"\n",
    "      .format(train_df['Survived'][train_df['Pclass'] == 3]\n",
    "              .value_counts(normalize=True)[1]))\n",
    "\n",
    "print(train_df['Pclass'].value_counts())"
   ]
  },
  {
   "cell_type": "markdown",
   "id": "023d6f0e",
   "metadata": {},
   "source": [
    "* We can see that the most people survived in 1 class by percentage scale\n",
    "* Least people survived in 3 class by percentage scale.\n",
    "* Most people comprised of 3 class."
   ]
  },
  {
   "cell_type": "markdown",
   "id": "0ca1087f",
   "metadata": {},
   "source": [
    "**Survival by SibSp feature**"
   ]
  },
  {
   "cell_type": "code",
   "execution_count": 80,
   "id": "3631bf46",
   "metadata": {},
   "outputs": [
    {
     "name": "stdout",
     "output_type": "stream",
     "text": [
      "Precentage of 0 SibSp survived: 34.53947368421053 %\n",
      "Precentage of 1 SibSp survived: 53.588516746411486 %\n",
      "Precentage of 2 SibSp survived: 46.42857142857143 %\n",
      "Precentage of 3 SibSp survived: 25.0 %\n",
      "Precentage of 4 SibSp survived: 16.666666666666664 %\n",
      "0    608\n",
      "1    209\n",
      "2     28\n",
      "4     18\n",
      "3     16\n",
      "8      7\n",
      "5      5\n",
      "Name: SibSp, dtype: int64\n"
     ]
    },
    {
     "data": {
      "image/png": "[encoded data removed]",
      "text/plain": [
       "<Figure size 432x288 with 1 Axes>"
      ]
     },
     "metadata": {
      "needs_background": "light"
     },
     "output_type": "display_data"
    }
   ],
   "source": [
    "sns.barplot(x=\"SibSp\", y=\"Survived\", data=train_df)\n",
    "\n",
    "print(\"Precentage of 0 SibSp survived: {} %\"\n",
    "      .format(train_df['Survived'][train_df['SibSp'] == 0]\n",
    "              .value_counts(normalize=True)[1]*100))\n",
    "\n",
    "print(\"Precentage of 1 SibSp survived: {} %\"\n",
    "      .format(train_df['Survived'][train_df['SibSp'] == 1]\n",
    "              .value_counts(normalize=True)[1]*100))\n",
    "\n",
    "print(\"Precentage of 2 SibSp survived: {} %\"\n",
    "      .format(train_df['Survived'][train_df['SibSp'] == 2]\n",
    "              .value_counts(normalize=True)[1]*100))\n",
    "\n",
    "print(\"Precentage of 3 SibSp survived: {} %\"\n",
    "      .format(train_df['Survived'][train_df['SibSp'] == 3]\n",
    "              .value_counts(normalize=True)[1]*100))\n",
    "\n",
    "print(\"Precentage of 4 SibSp survived: {} %\"\n",
    "      .format(train_df['Survived'][train_df['SibSp'] == 4]\n",
    "              .value_counts(normalize=True)[1]*100))\n",
    "\n",
    "print(train_df['SibSp'].value_counts())"
   ]
  },
  {
   "cell_type": "markdown",
   "id": "099bc5c6",
   "metadata": {},
   "source": [
    "* The majority of people constitute in 0 and 1 SibSp\n",
    "* 34% of people in 0 SibSp survived\n",
    "* 53% of people in 1 SibSp survived \n",
    "* None of people in 5 and 8 SibSp survived\n",
    "* It is clear that people with more siblings were less likely to survive\n",
    "\n",
    "**Survival by parch**"
   ]
  },
  {
   "cell_type": "code",
   "execution_count": 106,
   "id": "ae7fba09",
   "metadata": {},
   "outputs": [
    {
     "name": "stdout",
     "output_type": "stream",
     "text": [
      "The percentage of survived people who had 0 parents/children aboard: 0.34365781710914456 %\n",
      "0    76.094276\n",
      "1    13.243547\n",
      "2     8.978676\n",
      "3     0.561167\n",
      "5     0.561167\n",
      "4     0.448934\n",
      "6     0.112233\n",
      "Name: Parch, dtype: float64\n"
     ]
    },
    {
     "data": {
      "image/png": "[encoded data removed]",
      "text/plain": [
       "<Figure size 432x288 with 1 Axes>"
      ]
     },
     "metadata": {
      "needs_background": "light"
     },
     "output_type": "display_data"
    }
   ],
   "source": [
    "sns.barplot(x=\"Parch\", y=\"Survived\", data=train_df)\n",
    "\n",
    "print(\"The percentage of survived people who had 0 parents/children aboard: {} %\"\n",
    "      .format(train_df['Survived'][train_df['Parch'] == 0]\n",
    "              .value_counts(normalize=True)[1]))\n",
    "print(train_df['Parch'].value_counts(normalize=True)*100)"
   ]
  },
  {
   "cell_type": "markdown",
   "id": "6376cabc",
   "metadata": {},
   "source": [
    "* The majority of people who had 0 parents/children aboard constitute this feature.\n",
    "* 1 and 2 parents/children aboard constitute also significant proportion of dataset.\n",
    "* The least people(in percentage scale) survived with 0 parents/children aboard.\n",
    "\n",
    "**Survival by age**"
   ]
  },
  {
   "cell_type": "code",
   "execution_count": null,
   "id": "6ef6943e",
   "metadata": {},
   "outputs": [],
   "source": [
    "# fill empty values with -0.5\n",
    "train['Age'] = train[\"Age\"].fillna(-0.5)\n",
    "test['Age'] = train[\"Age\"].fillna(-0.5)\n",
    "\n",
    "# creating interval array\n",
    "bins = [-1, 0, 5, 12, 18, 24, 35, 60, np.inf]\n",
    "\n",
    "# creating labels\n",
    "labels = "
   ]
  },
  {
   "cell_type": "markdown",
   "id": "167c9bfa",
   "metadata": {},
   "source": [
    "## 3. Data cleaning\n",
    "Drop cabin column since there is significant amount of values missing"
   ]
  },
  {
   "cell_type": "code",
   "execution_count": null,
   "id": "66aa18a8",
   "metadata": {},
   "outputs": [],
   "source": [
    "train_df.drop('Cabin', axis='columns', inplace=True)"
   ]
  },
  {
   "cell_type": "code",
   "execution_count": 97,
   "id": "659f4570",
   "metadata": {},
   "outputs": [
    {
     "name": "stdout",
     "output_type": "stream",
     "text": [
      "456.45\n"
     ]
    }
   ],
   "source": [
    "print(\"{}\".format(format(456.45457, \".2f\")))"
   ]
  }
 ],
 "metadata": {
  "kernelspec": {
   "display_name": "Python 3",
   "language": "python",
   "name": "python3"
  },
  "language_info": {
   "codemirror_mode": {
    "name": "ipython",
    "version": 3
   },
   "file_extension": ".py",
   "mimetype": "text/x-python",
   "name": "python",
   "nbconvert_exporter": "python",
   "pygments_lexer": "ipython3",
   "version": "3.9.2"
  },
  "papermill": {
   "default_parameters": {},
   "duration": 9.258207,
   "end_time": "2021-04-26T16:39:04.818425",
   "environment_variables": {},
   "exception": null,
   "input_path": "__notebook__.ipynb",
   "output_path": "__notebook__.ipynb",
   "parameters": {},
   "start_time": "2021-04-26T16:38:55.560218",
   "version": "2.3.2"
  }
 },
 "nbformat": 4,
 "nbformat_minor": 5
}
