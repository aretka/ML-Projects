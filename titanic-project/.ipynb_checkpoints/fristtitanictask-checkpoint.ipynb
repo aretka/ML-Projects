{
 "cells": [
  {
   "cell_type": "markdown",
   "id": "magnetic-combining",
   "metadata": {
    "papermill": {
     "duration": 0.011426,
     "end_time": "2021-04-26T16:39:02.415122",
     "exception": false,
     "start_time": "2021-04-26T16:39:02.403696",
     "status": "completed"
    },
    "tags": []
   },
   "source": [
    "## Titanic project\n",
    "\n",
    "Table of content\n",
    "* 1. [Preperation](#1-preperation)\n",
    "    * 1.1. [Import relevant libraries](#11-import-relevent-libraries)\n",
    "    * 1.2. [Load data from the file](#12-load-data-from-the-file)\n",
    "* 2. Data overview\n",
    "    * 2.1. Data dictionary\n",
    "    * 2.2. Properties\n",
    "    * 2.3. Features\n",
    "    * 2.4. Null values\n",
    "    * 2.5. Statistical distribution\n",
    "* 3. Feature engineering\n",
    "* 4. Data cleaning\n",
    "* 5. What about this\n",
    "\n",
    "## 1. Preperation\n",
    "### 1.1. Import relevent libraries"
   ]
  },
  {
   "cell_type": "code",
   "execution_count": 1,
   "id": "amber-three",
   "metadata": {
    "execution": {
     "iopub.execute_input": "2021-04-26T16:39:02.441000Z",
     "iopub.status.busy": "2021-04-26T16:39:02.440388Z",
     "iopub.status.idle": "2021-04-26T16:39:03.480433Z",
     "shell.execute_reply": "2021-04-26T16:39:03.479080Z"
    },
    "papermill": {
     "duration": 1.055726,
     "end_time": "2021-04-26T16:39:03.480635",
     "exception": false,
     "start_time": "2021-04-26T16:39:02.424909",
     "status": "completed"
    },
    "tags": []
   },
   "outputs": [],
   "source": [
    "# data analysis\n",
    "import pandas as pd\n",
    "import numpy as np\n",
    "from scipy import stats\n",
    "\n",
    "# visualisation\n",
    "import matplotlib.pyplot as plt\n",
    "import seaborn as sns\n",
    "%matplotlib inline"
   ]
  },
  {
   "cell_type": "markdown",
   "id": "meaningful-traveler",
   "metadata": {
    "papermill": {
     "duration": 0.010391,
     "end_time": "2021-04-26T16:39:03.501969",
     "exception": false,
     "start_time": "2021-04-26T16:39:03.491578",
     "status": "completed"
    },
    "tags": []
   },
   "source": [
    "### 1.2. Load data from the file"
   ]
  },
  {
   "cell_type": "code",
   "execution_count": 2,
   "id": "female-florida",
   "metadata": {
    "execution": {
     "iopub.execute_input": "2021-04-26T16:39:03.528473Z",
     "iopub.status.busy": "2021-04-26T16:39:03.527717Z",
     "iopub.status.idle": "2021-04-26T16:39:03.587451Z",
     "shell.execute_reply": "2021-04-26T16:39:03.586881Z"
    },
    "papermill": {
     "duration": 0.075618,
     "end_time": "2021-04-26T16:39:03.587600",
     "exception": false,
     "start_time": "2021-04-26T16:39:03.511982",
     "status": "completed"
    },
    "tags": []
   },
   "outputs": [
    {
     "data": {
      "text/html": [
       "<div>\n",
       "<style scoped>\n",
       "    .dataframe tbody tr th:only-of-type {\n",
       "        vertical-align: middle;\n",
       "    }\n",
       "\n",
       "    .dataframe tbody tr th {\n",
       "        vertical-align: top;\n",
       "    }\n",
       "\n",
       "    .dataframe thead th {\n",
       "        text-align: right;\n",
       "    }\n",
       "</style>\n",
       "<table border=\"1\" class=\"dataframe\">\n",
       "  <thead>\n",
       "    <tr style=\"text-align: right;\">\n",
       "      <th></th>\n",
       "      <th>Survived</th>\n",
       "      <th>Pclass</th>\n",
       "      <th>Name</th>\n",
       "      <th>Sex</th>\n",
       "      <th>Age</th>\n",
       "      <th>SibSp</th>\n",
       "      <th>Parch</th>\n",
       "      <th>Ticket</th>\n",
       "      <th>Fare</th>\n",
       "      <th>Cabin</th>\n",
       "      <th>Embarked</th>\n",
       "    </tr>\n",
       "    <tr>\n",
       "      <th>PassengerId</th>\n",
       "      <th></th>\n",
       "      <th></th>\n",
       "      <th></th>\n",
       "      <th></th>\n",
       "      <th></th>\n",
       "      <th></th>\n",
       "      <th></th>\n",
       "      <th></th>\n",
       "      <th></th>\n",
       "      <th></th>\n",
       "      <th></th>\n",
       "    </tr>\n",
       "  </thead>\n",
       "  <tbody>\n",
       "    <tr>\n",
       "      <th>1</th>\n",
       "      <td>0</td>\n",
       "      <td>3</td>\n",
       "      <td>Braund, Mr. Owen Harris</td>\n",
       "      <td>male</td>\n",
       "      <td>22.0</td>\n",
       "      <td>1</td>\n",
       "      <td>0</td>\n",
       "      <td>A/5 21171</td>\n",
       "      <td>7.2500</td>\n",
       "      <td>NaN</td>\n",
       "      <td>S</td>\n",
       "    </tr>\n",
       "    <tr>\n",
       "      <th>2</th>\n",
       "      <td>1</td>\n",
       "      <td>1</td>\n",
       "      <td>Cumings, Mrs. John Bradley (Florence Briggs Th...</td>\n",
       "      <td>female</td>\n",
       "      <td>38.0</td>\n",
       "      <td>1</td>\n",
       "      <td>0</td>\n",
       "      <td>PC 17599</td>\n",
       "      <td>71.2833</td>\n",
       "      <td>C85</td>\n",
       "      <td>C</td>\n",
       "    </tr>\n",
       "    <tr>\n",
       "      <th>3</th>\n",
       "      <td>1</td>\n",
       "      <td>3</td>\n",
       "      <td>Heikkinen, Miss. Laina</td>\n",
       "      <td>female</td>\n",
       "      <td>26.0</td>\n",
       "      <td>0</td>\n",
       "      <td>0</td>\n",
       "      <td>STON/O2. 3101282</td>\n",
       "      <td>7.9250</td>\n",
       "      <td>NaN</td>\n",
       "      <td>S</td>\n",
       "    </tr>\n",
       "    <tr>\n",
       "      <th>4</th>\n",
       "      <td>1</td>\n",
       "      <td>1</td>\n",
       "      <td>Futrelle, Mrs. Jacques Heath (Lily May Peel)</td>\n",
       "      <td>female</td>\n",
       "      <td>35.0</td>\n",
       "      <td>1</td>\n",
       "      <td>0</td>\n",
       "      <td>113803</td>\n",
       "      <td>53.1000</td>\n",
       "      <td>C123</td>\n",
       "      <td>S</td>\n",
       "    </tr>\n",
       "    <tr>\n",
       "      <th>5</th>\n",
       "      <td>0</td>\n",
       "      <td>3</td>\n",
       "      <td>Allen, Mr. William Henry</td>\n",
       "      <td>male</td>\n",
       "      <td>35.0</td>\n",
       "      <td>0</td>\n",
       "      <td>0</td>\n",
       "      <td>373450</td>\n",
       "      <td>8.0500</td>\n",
       "      <td>NaN</td>\n",
       "      <td>S</td>\n",
       "    </tr>\n",
       "  </tbody>\n",
       "</table>\n",
       "</div>"
      ],
      "text/plain": [
       "             Survived  Pclass  \\\n",
       "PassengerId                     \n",
       "1                   0       3   \n",
       "2                   1       1   \n",
       "3                   1       3   \n",
       "4                   1       1   \n",
       "5                   0       3   \n",
       "\n",
       "                                                          Name     Sex   Age  \\\n",
       "PassengerId                                                                    \n",
       "1                                      Braund, Mr. Owen Harris    male  22.0   \n",
       "2            Cumings, Mrs. John Bradley (Florence Briggs Th...  female  38.0   \n",
       "3                                       Heikkinen, Miss. Laina  female  26.0   \n",
       "4                 Futrelle, Mrs. Jacques Heath (Lily May Peel)  female  35.0   \n",
       "5                                     Allen, Mr. William Henry    male  35.0   \n",
       "\n",
       "             SibSp  Parch            Ticket     Fare Cabin Embarked  \n",
       "PassengerId                                                          \n",
       "1                1      0         A/5 21171   7.2500   NaN        S  \n",
       "2                1      0          PC 17599  71.2833   C85        C  \n",
       "3                0      0  STON/O2. 3101282   7.9250   NaN        S  \n",
       "4                1      0            113803  53.1000  C123        S  \n",
       "5                0      0            373450   8.0500   NaN        S  "
      ]
     },
     "execution_count": 2,
     "metadata": {},
     "output_type": "execute_result"
    }
   ],
   "source": [
    "# load train.csv to pandas data frame, using 'PassengerId' as the index\n",
    "master_df = pd.read_csv('../input/titanic/train.csv' , index_col='PassengerId')\n",
    "\n",
    "# Create a working copy of the data frame for manipulation. The master will serve as the baseline.\n",
    "working_df = master_df.copy()\n",
    "\n",
    "# Preview the data\n",
    "working_df.head()"
   ]
  },
  {
   "cell_type": "markdown",
   "id": "massive-gardening",
   "metadata": {
    "papermill": {
     "duration": 0.010725,
     "end_time": "2021-04-26T16:39:03.609109",
     "exception": false,
     "start_time": "2021-04-26T16:39:03.598384",
     "status": "completed"
    },
    "tags": []
   },
   "source": [
    "## 2. Data overview\n",
    "### 2.1. Data dictionary"
   ]
  },
  {
   "cell_type": "markdown",
   "id": "waiting-stanley",
   "metadata": {
    "papermill": {
     "duration": 0.010586,
     "end_time": "2021-04-26T16:39:03.630528",
     "exception": false,
     "start_time": "2021-04-26T16:39:03.619942",
     "status": "completed"
    },
    "tags": []
   },
   "source": [
    "![Dictionary](../input/dictionary/Screenshot-20210426-172830.png)\n",
    "### 2.2. Properties"
   ]
  },
  {
   "cell_type": "code",
   "execution_count": 3,
   "id": "ecological-george",
   "metadata": {
    "execution": {
     "iopub.execute_input": "2021-04-26T16:39:03.659279Z",
     "iopub.status.busy": "2021-04-26T16:39:03.658185Z",
     "iopub.status.idle": "2021-04-26T16:39:03.662991Z",
     "shell.execute_reply": "2021-04-26T16:39:03.663492Z"
    },
    "papermill": {
     "duration": 0.022242,
     "end_time": "2021-04-26T16:39:03.663704",
     "exception": false,
     "start_time": "2021-04-26T16:39:03.641462",
     "status": "completed"
    },
    "tags": []
   },
   "outputs": [
    {
     "name": "stdout",
     "output_type": "stream",
     "text": [
      "There are 891 rows and 11 columns\n"
     ]
    }
   ],
   "source": [
    "print(\"There are {} rows and {} columns\"\n",
    "      .format(master_df.shape[0], master_df.shape[1]))"
   ]
  },
  {
   "cell_type": "code",
   "execution_count": 4,
   "id": "central-processing",
   "metadata": {
    "execution": {
     "iopub.execute_input": "2021-04-26T16:39:03.708489Z",
     "iopub.status.busy": "2021-04-26T16:39:03.707471Z",
     "iopub.status.idle": "2021-04-26T16:39:03.712329Z",
     "shell.execute_reply": "2021-04-26T16:39:03.711600Z"
    },
    "papermill": {
     "duration": 0.037487,
     "end_time": "2021-04-26T16:39:03.712489",
     "exception": false,
     "start_time": "2021-04-26T16:39:03.675002",
     "status": "completed"
    },
    "tags": []
   },
   "outputs": [
    {
     "name": "stdout",
     "output_type": "stream",
     "text": [
      "<class 'pandas.core.frame.DataFrame'>\n",
      "Int64Index: 891 entries, 1 to 891\n",
      "Data columns (total 11 columns):\n",
      " #   Column    Non-Null Count  Dtype  \n",
      "---  ------    --------------  -----  \n",
      " 0   Survived  891 non-null    int64  \n",
      " 1   Pclass    891 non-null    int64  \n",
      " 2   Name      891 non-null    object \n",
      " 3   Sex       891 non-null    object \n",
      " 4   Age       714 non-null    float64\n",
      " 5   SibSp     891 non-null    int64  \n",
      " 6   Parch     891 non-null    int64  \n",
      " 7   Ticket    891 non-null    object \n",
      " 8   Fare      891 non-null    float64\n",
      " 9   Cabin     204 non-null    object \n",
      " 10  Embarked  889 non-null    object \n",
      "dtypes: float64(2), int64(4), object(5)\n",
      "memory usage: 83.5+ KB\n",
      "None\n"
     ]
    }
   ],
   "source": [
    "# print basic summary of the dataset\n",
    "print(master_df.info())"
   ]
  },
  {
   "cell_type": "markdown",
   "id": "happy-buyer",
   "metadata": {
    "papermill": {
     "duration": 0.011062,
     "end_time": "2021-04-26T16:39:03.735084",
     "exception": false,
     "start_time": "2021-04-26T16:39:03.724022",
     "status": "completed"
    },
    "tags": []
   },
   "source": [
    "### 2.3. Features\n",
    "The dataset contains 3 data types. We will assume that float64 represent continuos data, int64 represents descrete data and object represents categorical data.\n",
    "* Continuos data: age, fare.\n",
    "* Descrete data: survived, pclass, sibsp, parch.\n",
    "* Categorical data: name, sex, cabin, embarked\n",
    "\n",
    "## 2.4. Null values"
   ]
  },
  {
   "cell_type": "code",
   "execution_count": 5,
   "id": "pediatric-medium",
   "metadata": {
    "execution": {
     "iopub.execute_input": "2021-04-26T16:39:03.769260Z",
     "iopub.status.busy": "2021-04-26T16:39:03.767909Z",
     "iopub.status.idle": "2021-04-26T16:39:03.773179Z",
     "shell.execute_reply": "2021-04-26T16:39:03.772377Z"
    },
    "papermill": {
     "duration": 0.0268,
     "end_time": "2021-04-26T16:39:03.773348",
     "exception": false,
     "start_time": "2021-04-26T16:39:03.746548",
     "status": "completed"
    },
    "tags": []
   },
   "outputs": [
    {
     "data": {
      "text/plain": [
       "Survived      0\n",
       "Pclass        0\n",
       "Name          0\n",
       "Sex           0\n",
       "Age         177\n",
       "SibSp         0\n",
       "Parch         0\n",
       "Ticket        0\n",
       "Fare          0\n",
       "Cabin       687\n",
       "Embarked      2\n",
       "dtype: int64"
      ]
     },
     "execution_count": 5,
     "metadata": {},
     "output_type": "execute_result"
    }
   ],
   "source": [
    "master_df.isnull().sum()"
   ]
  },
  {
   "cell_type": "markdown",
   "id": "limited-solution",
   "metadata": {
    "papermill": {
     "duration": 0.011583,
     "end_time": "2021-04-26T16:39:03.798702",
     "exception": false,
     "start_time": "2021-04-26T16:39:03.787119",
     "status": "completed"
    },
    "tags": []
   },
   "source": [
    "* As we can see cabin is null 687 out of 891 instances. Any imputation would likely introduce signficant bias. We can drop this feature.\n",
    "* Embarked null values constitute minor portion of the data age(177 of 891) and embarked(2 of 891). Imputation of these features will have minimal impact of correliation.\n",
    "\n",
    "### 2.5. Statistical distribution\n",
    "\n",
    "Statistical distribution of categorical features"
   ]
  },
  {
   "cell_type": "code",
   "execution_count": 6,
   "id": "basic-keyboard",
   "metadata": {
    "execution": {
     "iopub.execute_input": "2021-04-26T16:39:03.833842Z",
     "iopub.status.busy": "2021-04-26T16:39:03.832704Z",
     "iopub.status.idle": "2021-04-26T16:39:03.862350Z",
     "shell.execute_reply": "2021-04-26T16:39:03.861660Z"
    },
    "papermill": {
     "duration": 0.051786,
     "end_time": "2021-04-26T16:39:03.862507",
     "exception": false,
     "start_time": "2021-04-26T16:39:03.810721",
     "status": "completed"
    },
    "tags": []
   },
   "outputs": [
    {
     "data": {
      "text/html": [
       "<div>\n",
       "<style scoped>\n",
       "    .dataframe tbody tr th:only-of-type {\n",
       "        vertical-align: middle;\n",
       "    }\n",
       "\n",
       "    .dataframe tbody tr th {\n",
       "        vertical-align: top;\n",
       "    }\n",
       "\n",
       "    .dataframe thead th {\n",
       "        text-align: right;\n",
       "    }\n",
       "</style>\n",
       "<table border=\"1\" class=\"dataframe\">\n",
       "  <thead>\n",
       "    <tr style=\"text-align: right;\">\n",
       "      <th></th>\n",
       "      <th>Survived</th>\n",
       "      <th>Pclass</th>\n",
       "      <th>Age</th>\n",
       "      <th>SibSp</th>\n",
       "      <th>Parch</th>\n",
       "      <th>Fare</th>\n",
       "    </tr>\n",
       "  </thead>\n",
       "  <tbody>\n",
       "    <tr>\n",
       "      <th>count</th>\n",
       "      <td>891.000000</td>\n",
       "      <td>891.000000</td>\n",
       "      <td>714.000000</td>\n",
       "      <td>891.000000</td>\n",
       "      <td>891.000000</td>\n",
       "      <td>891.000000</td>\n",
       "    </tr>\n",
       "    <tr>\n",
       "      <th>mean</th>\n",
       "      <td>0.383838</td>\n",
       "      <td>2.308642</td>\n",
       "      <td>29.699118</td>\n",
       "      <td>0.523008</td>\n",
       "      <td>0.381594</td>\n",
       "      <td>32.204208</td>\n",
       "    </tr>\n",
       "    <tr>\n",
       "      <th>std</th>\n",
       "      <td>0.486592</td>\n",
       "      <td>0.836071</td>\n",
       "      <td>14.526497</td>\n",
       "      <td>1.102743</td>\n",
       "      <td>0.806057</td>\n",
       "      <td>49.693429</td>\n",
       "    </tr>\n",
       "    <tr>\n",
       "      <th>min</th>\n",
       "      <td>0.000000</td>\n",
       "      <td>1.000000</td>\n",
       "      <td>0.420000</td>\n",
       "      <td>0.000000</td>\n",
       "      <td>0.000000</td>\n",
       "      <td>0.000000</td>\n",
       "    </tr>\n",
       "    <tr>\n",
       "      <th>25%</th>\n",
       "      <td>0.000000</td>\n",
       "      <td>2.000000</td>\n",
       "      <td>20.125000</td>\n",
       "      <td>0.000000</td>\n",
       "      <td>0.000000</td>\n",
       "      <td>7.910400</td>\n",
       "    </tr>\n",
       "    <tr>\n",
       "      <th>50%</th>\n",
       "      <td>0.000000</td>\n",
       "      <td>3.000000</td>\n",
       "      <td>28.000000</td>\n",
       "      <td>0.000000</td>\n",
       "      <td>0.000000</td>\n",
       "      <td>14.454200</td>\n",
       "    </tr>\n",
       "    <tr>\n",
       "      <th>75%</th>\n",
       "      <td>1.000000</td>\n",
       "      <td>3.000000</td>\n",
       "      <td>38.000000</td>\n",
       "      <td>1.000000</td>\n",
       "      <td>0.000000</td>\n",
       "      <td>31.000000</td>\n",
       "    </tr>\n",
       "    <tr>\n",
       "      <th>max</th>\n",
       "      <td>1.000000</td>\n",
       "      <td>3.000000</td>\n",
       "      <td>80.000000</td>\n",
       "      <td>8.000000</td>\n",
       "      <td>6.000000</td>\n",
       "      <td>512.329200</td>\n",
       "    </tr>\n",
       "  </tbody>\n",
       "</table>\n",
       "</div>"
      ],
      "text/plain": [
       "         Survived      Pclass         Age       SibSp       Parch        Fare\n",
       "count  891.000000  891.000000  714.000000  891.000000  891.000000  891.000000\n",
       "mean     0.383838    2.308642   29.699118    0.523008    0.381594   32.204208\n",
       "std      0.486592    0.836071   14.526497    1.102743    0.806057   49.693429\n",
       "min      0.000000    1.000000    0.420000    0.000000    0.000000    0.000000\n",
       "25%      0.000000    2.000000   20.125000    0.000000    0.000000    7.910400\n",
       "50%      0.000000    3.000000   28.000000    0.000000    0.000000   14.454200\n",
       "75%      1.000000    3.000000   38.000000    1.000000    0.000000   31.000000\n",
       "max      1.000000    3.000000   80.000000    8.000000    6.000000  512.329200"
      ]
     },
     "execution_count": 6,
     "metadata": {},
     "output_type": "execute_result"
    }
   ],
   "source": [
    "master_df.describe()"
   ]
  },
  {
   "cell_type": "markdown",
   "id": "martial-binary",
   "metadata": {
    "papermill": {
     "duration": 0.012987,
     "end_time": "2021-04-26T16:39:03.888322",
     "exception": false,
     "start_time": "2021-04-26T16:39:03.875335",
     "status": "completed"
    },
    "tags": []
   },
   "source": [
    "Print statistical distribution of categorical data"
   ]
  },
  {
   "cell_type": "code",
   "execution_count": 7,
   "id": "protecting-klein",
   "metadata": {
    "execution": {
     "iopub.execute_input": "2021-04-26T16:39:03.924668Z",
     "iopub.status.busy": "2021-04-26T16:39:03.923542Z",
     "iopub.status.idle": "2021-04-26T16:39:03.966937Z",
     "shell.execute_reply": "2021-04-26T16:39:03.966185Z"
    },
    "papermill": {
     "duration": 0.065435,
     "end_time": "2021-04-26T16:39:03.967098",
     "exception": false,
     "start_time": "2021-04-26T16:39:03.901663",
     "status": "completed"
    },
    "tags": []
   },
   "outputs": [
    {
     "data": {
      "text/html": [
       "<div>\n",
       "<style scoped>\n",
       "    .dataframe tbody tr th:only-of-type {\n",
       "        vertical-align: middle;\n",
       "    }\n",
       "\n",
       "    .dataframe tbody tr th {\n",
       "        vertical-align: top;\n",
       "    }\n",
       "\n",
       "    .dataframe thead th {\n",
       "        text-align: right;\n",
       "    }\n",
       "</style>\n",
       "<table border=\"1\" class=\"dataframe\">\n",
       "  <thead>\n",
       "    <tr style=\"text-align: right;\">\n",
       "      <th></th>\n",
       "      <th>Name</th>\n",
       "      <th>Sex</th>\n",
       "      <th>Ticket</th>\n",
       "      <th>Cabin</th>\n",
       "      <th>Embarked</th>\n",
       "    </tr>\n",
       "  </thead>\n",
       "  <tbody>\n",
       "    <tr>\n",
       "      <th>count</th>\n",
       "      <td>891</td>\n",
       "      <td>891</td>\n",
       "      <td>891</td>\n",
       "      <td>204</td>\n",
       "      <td>889</td>\n",
       "    </tr>\n",
       "    <tr>\n",
       "      <th>unique</th>\n",
       "      <td>891</td>\n",
       "      <td>2</td>\n",
       "      <td>681</td>\n",
       "      <td>147</td>\n",
       "      <td>3</td>\n",
       "    </tr>\n",
       "    <tr>\n",
       "      <th>top</th>\n",
       "      <td>Jonkoff, Mr. Lalio</td>\n",
       "      <td>male</td>\n",
       "      <td>CA. 2343</td>\n",
       "      <td>C23 C25 C27</td>\n",
       "      <td>S</td>\n",
       "    </tr>\n",
       "    <tr>\n",
       "      <th>freq</th>\n",
       "      <td>1</td>\n",
       "      <td>577</td>\n",
       "      <td>7</td>\n",
       "      <td>4</td>\n",
       "      <td>644</td>\n",
       "    </tr>\n",
       "  </tbody>\n",
       "</table>\n",
       "</div>"
      ],
      "text/plain": [
       "                      Name   Sex    Ticket        Cabin Embarked\n",
       "count                  891   891       891          204      889\n",
       "unique                 891     2       681          147        3\n",
       "top     Jonkoff, Mr. Lalio  male  CA. 2343  C23 C25 C27        S\n",
       "freq                     1   577         7            4      644"
      ]
     },
     "execution_count": 7,
     "metadata": {},
     "output_type": "execute_result"
    }
   ],
   "source": [
    "master_df.describe(include=['O'])"
   ]
  },
  {
   "cell_type": "markdown",
   "id": "handmade-masters",
   "metadata": {
    "papermill": {
     "duration": 0.012863,
     "end_time": "2021-04-26T16:39:03.993260",
     "exception": false,
     "start_time": "2021-04-26T16:39:03.980397",
     "status": "completed"
    },
    "tags": []
   },
   "source": [
    "## 3. Feature engineering\n",
    "### 3.1. Title "
   ]
  }
 ],
 "metadata": {
  "kernelspec": {
   "display_name": "Python 3",
   "language": "python",
   "name": "python3"
  },
  "language_info": {
   "codemirror_mode": {
    "name": "ipython",
    "version": 3
   },
   "file_extension": ".py",
   "mimetype": "text/x-python",
   "name": "python",
   "nbconvert_exporter": "python",
   "pygments_lexer": "ipython3",
   "version": "3.7.9"
  },
  "papermill": {
   "default_parameters": {},
   "duration": 9.258207,
   "end_time": "2021-04-26T16:39:04.818425",
   "environment_variables": {},
   "exception": null,
   "input_path": "__notebook__.ipynb",
   "output_path": "__notebook__.ipynb",
   "parameters": {},
   "start_time": "2021-04-26T16:38:55.560218",
   "version": "2.3.2"
  }
 },
 "nbformat": 4,
 "nbformat_minor": 5
}
